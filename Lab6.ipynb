{
 "cells": [
  {
   "cell_type": "markdown",
   "metadata": {},
   "source": [
    "# Theory.\n",
    "### Problem 1\n",
    "For this problem state belief can be described as a discrete probability vector `P[N]`, where `P[i]` reflects the probablity of robot to be in the location `i`.\n",
    "\n",
    "`Sum(P[i]) = 1`\n",
    "\n",
    "\n",
    "Initial `P[i] = 1/N` since we all locations are equally possible.\n",
    "\n",
    "\n",
    "Measurement update is essentially skiped, because we don't get new information at all (sensor always report the same value).\n",
    "\n",
    "Dynamics update `(P[i]|Control)` is executed as following:\n",
    "- Let `C=Control` be one of [-1. +1, 0] for [Left, Right, Stop]\n",
    "- P_new = {0, 0, ..., 0}\n",
    "- For i=1:N\n",
    "- j = max(min(i + C, 0), N-1)\n",
    "- P_new[j] += P[i]\n",
    "\n",
    "Here is what posteriors will look like for a sequence of [Left, Left, Left, Left, Left]\n",
    "- [0.2, 0.2, 0.2, 0.2, 0.2]\n",
    "- [0.4, 0.2, 0.2, 0.2, 0.0]\n",
    "- [0.6, 0.2, 0.2, 0.0, 0.0]\n",
    "- [0.8, 0.2, 0.0, 0.0, 0.0]\n",
    "- [1.0, 0.0, 0.0, 0.0, 0.0]\n"
   ]
  },
  {
   "cell_type": "markdown",
   "metadata": {},
   "source": [
    "### Problem 2\n",
    "\n",
    "![title](suppl/p62.png)\n",
    "\n",
    "When both priors `P0(closed)` and `P0(open)` are higher than 0, bayesian estimation of a door state given a sequence of same observations will behave reasonable: if `Z[0..N]=Closed`, `Pn(Closed)->1`, if `Z[0..N]=Open`, `Pn(Open)->1`.\n",
    "\n",
    "Changing priors further from 50:50 will make filter converge slower for the case, where prior is lower, but the limit won't change.\n",
    "\n",
    "\n",
    "However, if `P0(Closed)=0`, recursive estimation does not produce reasonable results: `Pn(Closed | [Z0...Zn])=0` for any sequence of `Z`.\n",
    "\n",
    "Such behavior would probably be counter-productive in most practical scenarious, but it also can be considered as feature: if at `t=0` we somehow know 100% sure, that the door is close and we now that door can't change it's state (no dynamics update) then it makes sense to ignore observations event if they contradict our estimation.\n",
    "\n",
    "In practice it's hard to be 100% sure in anything, so it's better to use equally distributed priors or something less skewed then 0:1."
   ]
  },
  {
   "cell_type": "markdown",
   "metadata": {},
   "source": [
    "### Problem 3\n",
    "\n",
    "![title](suppl/Assignment6.3.png)"
   ]
  },
  {
   "cell_type": "markdown",
   "metadata": {},
   "source": [
    "# Lab 6: Particle Filter\n",
    "\n",
    "## Implementation (25 Pts)\n",
    "\n",
    "In this lab, you will implement a particle filter for performing state estimation. Consider a system whose state is given by $\\bar{x} = [x,y]$, where $x$ is the x-position of our system and $y$ is the y-position. Assume that we have a perfect model of the dynamics of the system:\n",
    "$$x_{t+1} = x_t + 0.1 x_t,$$\n",
    "$$y_{t+1} = y_t - 0.2 y_t.$$\n",
    "Suppose that we have a sensor that provides an (imperfect) estimate of the distance of the state from the origin. After thorough experimentation, we have found that the following is a good model of our sensor:\n",
    "$$p(z_t | \\bar{x}_t) = \\mathcal{N}(\\|\\bar{x}_t\\|, \\sigma_\\text{meas}^2),$$\n",
    "where $\\sigma_\\text{meas}^2$ is equal to 0.2. In other words, the sensor measurement is a Gaussian random variable with mean equal to the distance $\\|\\bar{x}_t\\|$ from the origin and the standard deviation equal to $\\sigma_\\text{meas}$. \n",
    "\n",
    "Suppose further that our initial belief about the state is defined by a Gaussian distribution with mean $[0, 0]$ and covariance equal to the $2 \\times 2$ identity matrix, i.e. $\\mathcal{N}(\\bar{0}, I)$.\n",
    "\n",
    "At each point in time, the true state $\\bar{x}_t$ of the system evolves according to the dynamics given above. But, we do not have a perfect estimate of the state. Instead, we must use the sensor measurements $z_t$ we receive to estimate the state. We will use a particle filter to (approximately) maintain and update a belief over the state. Your task is to fill out the portions of the code below marked \"TODO\" to complete the particle filter implementation. First, we will  import libraries and setup the dynamics:  "
   ]
  },
  {
   "cell_type": "code",
   "execution_count": 1,
   "metadata": {},
   "outputs": [],
   "source": [
    "import numpy as np\n",
    "import matplotlib.pyplot as plt\n",
    "import matplotlib.animation as animation\n",
    "import time\n",
    "import scipy.stats as st\n",
    "from typing import List, Tuple\n",
    "from IPython.display import HTML, Image\n",
    "\n",
    "%matplotlib notebook\n",
    "\n",
    "################ Setup dynamics and sensor (Do not modify) ###########\n",
    "\n",
    "def update_state(state: np.ndarray) -> np.ndarray:\n",
    "    \"\"\"\n",
    "    Update the state using the (known) dynamics of the system.\n",
    "    \n",
    "    @param state: The current state of the system.\n",
    "    \n",
    "    @return: The updated state of the system.\n",
    "    \"\"\"\n",
    "    state[0] = state[0] + 0.1 * state[0]\n",
    "    state[1] = state[1] - 0.2 * state[1]\n",
    "    return state\n",
    "\n",
    "def get_sensor_reading(state_true: np.ndarray, sensor_std_dev: float) -> float:\n",
    "    \"\"\"\n",
    "    Obtain a sensor measurement. This function simulates the sensor that the robot has.\n",
    "    \n",
    "    @param state_true: The true state of the robot.\n",
    "    @param sensor_std_dev: The standard deviation of the sensor's noise.\n",
    "    \n",
    "    @return: A sensor measurement\n",
    "    \"\"\"\n",
    "    z = np.random.normal(np.linalg.norm(state_true), sensor_std_dev) \n",
    "    return z"
   ]
  },
  {
   "cell_type": "code",
   "execution_count": 37,
   "metadata": {},
   "outputs": [],
   "source": [
    "def gaussian(x, mu, sig):\n",
    "    return 1./(np.sqrt(2.*np.pi)*sig)*np.exp(-np.power((x - mu)/sig, 2.)/2)"
   ]
  },
  {
   "cell_type": "code",
   "execution_count": 4,
   "metadata": {},
   "outputs": [],
   "source": [
    "def resample(x_from, ws_from):\n",
    "    ws_cs = ws_from.cumsum()\n",
    "    n = len(ws_from)\n",
    "    samples = np.random.rand(n) * np.sum(ws_from)\n",
    "    indices = np.searchsorted(ws_cs, samples)\n",
    "    return np.array([x_from[i] for i in indices])"
   ]
  },
  {
   "cell_type": "markdown",
   "metadata": {},
   "source": [
    "Below, you will implement the particle filter. Note that your implementation may take a few seconds to run. This is because we are storing all the particle information for the whole simulation and doing so in an inefficient manner which is convenient for plotting later. In practice, particle filters run very efficiently."
   ]
  },
  {
   "cell_type": "code",
   "execution_count": 54,
   "metadata": {},
   "outputs": [],
   "source": [
    "def particle_filter(initial_state: np.ndarray, num_particles: int, \n",
    "                    sensor_std_dev: float, init_mean: np.ndarray,\n",
    "                    init_cov: np.ndarray, horizon: int) -> Tuple[List[np.ndarray], List[np.ndarray]]:\n",
    "    \"\"\"\n",
    "    Simulate a particle filter over a time horizon.\n",
    "    \n",
    "    @param initial_state: The robot's true initial state as a 2-vector.\n",
    "    @param num_particles: The number of particles in the filter.\n",
    "    @param sensor_std_dev: The standard deviation of the sensor model's output.\n",
    "    @param init_mean: The mean of the initial distribution for the model as a 2-vector.\n",
    "    @param init_cov: The covariance of the initial distribution as a 2-by-2 matrix.\n",
    "    @param horizon: The number of steps to simulate the system for.\n",
    "    \n",
    "    @return: A 2-tuple whose first entry contains the history of the true state value of\n",
    "             the system and whose second entry contains the history of particle values\n",
    "             for the system.\n",
    "    \"\"\"\n",
    "    weights = np.zeros(num_particles)\n",
    "    state_true = initial_state.copy()\n",
    "    \n",
    "    particles = np.random.multivariate_normal(init_mean, init_cov, num_particles)\n",
    "\n",
    "    particle_history = [particles.copy()]\n",
    "    state_true_history = [state_true.copy()]\n",
    "\n",
    "    for t in range(horizon): # for each time-step t = 0,1,2,...\n",
    "\n",
    "        ######### Do not modify #############\n",
    "        # Update true state\n",
    "        state_true = update_state(state_true)\n",
    "        state_true_history.append(state_true.copy())\n",
    "\n",
    "        # Receive sensor measurement\n",
    "        z_t = get_sensor_reading(state_true, sensor_std_dev)\n",
    "        #####################################\n",
    "\n",
    "        ####### Particle filter code ########\n",
    "        for i in range(num_particles): # For each particle\n",
    "            ##### TODO: Dynamics update (5 pts) #####\n",
    "            particles[i] = update_state(particles[i])\n",
    "            weights[i] = gaussian(np.linalg.norm(z_t), np.linalg.norm(particles[i]), sensor_std_dev)\n",
    "            #####################################################\n",
    "        ##### TODO: Implement resampling step (15 pts) #################    \n",
    "        ###########################################################\n",
    "        particles = resample(particles, weights)\n",
    "        particles += np.random.multivariate_normal(init_mean*0, init_cov/500, num_particles)\n",
    "        particle_history.append(particles.copy())\n",
    "    \n",
    "    return state_true_history, particle_history    "
   ]
  },
  {
   "cell_type": "markdown",
   "metadata": {},
   "source": [
    "This cell actually runs the filter."
   ]
  },
  {
   "cell_type": "code",
   "execution_count": 59,
   "metadata": {},
   "outputs": [],
   "source": [
    "# Number of particles \n",
    "num_particles = 1000\n",
    "\n",
    "# Initialize particles using initial belief\n",
    "init_mean = np.array([0.0, 0.0])\n",
    "init_cov = np.array([[5.0, 0], [0, 5.0]])  # covariance is the identity matrix\n",
    "\n",
    "# Initialize true state\n",
    "state_true = np.array([0.3, 3.0])\n",
    "\n",
    "# Define sensor noise standard deviation\n",
    "sensor_std_dev = 0.2\n",
    "\n",
    "# Time horizon\n",
    "horizon = 30\n",
    "\n",
    "state_true_history, particle_history = particle_filter(state_true, num_particles, sensor_std_dev, init_mean, init_cov, horizon)"
   ]
  },
  {
   "cell_type": "markdown",
   "metadata": {},
   "source": [
    "Finally, this cell animates the results. If you get an error rendering the video, you may need to install FFMPEG. If the cell runs without error but the animation is not displayed, check the directory where the notebook is saved for the anim.gif file. Some browsers (including Microsoft Edge) may not properly display the animation despite the file being created and saved correctly."
   ]
  },
  {
   "cell_type": "code",
   "execution_count": 60,
   "metadata": {},
   "outputs": [
    {
     "data": {
      "text/html": [
       "<img src=\"./anim.gif\"/>"
      ],
      "text/plain": [
       "<IPython.core.display.Image object>"
      ]
     },
     "execution_count": 60,
     "metadata": {},
     "output_type": "execute_result"
    }
   ],
   "source": [
    "plt.ioff()\n",
    "fig, ax = plt.subplots()\n",
    "\n",
    "ax.set_xlim([-5, 5])\n",
    "ax.set_ylim([-5, 5])\n",
    "ax.set_aspect('equal')\n",
    "\n",
    "particle_scatter = ax.scatter([], [])\n",
    "state_scatter = ax.scatter([], [])    \n",
    "\n",
    "def animate(i):\n",
    "    particle_scatter.set_offsets(particle_history[i])\n",
    "    state_scatter.set_offsets(state_true_history[i])\n",
    "    \n",
    "# ani = animation.FuncAnimation(fig, animate, frames=len(particle_history))\n",
    "import matplotlib\n",
    "ani = matplotlib.animation.FuncAnimation(fig, animate, frames=len(particle_history))\n",
    "\n",
    "ani.save('./anim.gif', writer='pillow', fps=100)\n",
    "Image(url='./anim.gif')"
   ]
  },
  {
   "cell_type": "markdown",
   "metadata": {},
   "source": [
    "## Discussion (5 Pts)\n",
    "\n",
    "If your particle filter is implemented correctly, you should notice that the particles cluster in two locations. In the cell below, briefly explain why this behavior occurs, and how you might change the system so that the filter converges to the correct state."
   ]
  },
  {
   "cell_type": "markdown",
   "metadata": {},
   "source": [
    "### Your Answer:\n",
    "\n",
    "We use perfect process model, where we know x'=ax (x->+inf/-inf) and y' = -bx (y->0).\n",
    "\n",
    "Sensor only measures distance, so if x(0)!=0, there are two indistiguishable trajectories (x->inf, x->-inf).\n",
    "\n",
    "Two paricle clusters reflect the fact that with given sensors we can't get evidence for one or another trajectory, so belief in both is kept high."
   ]
  },
  {
   "cell_type": "code",
   "execution_count": null,
   "metadata": {},
   "outputs": [],
   "source": []
  }
 ],
 "metadata": {
  "kernelspec": {
   "display_name": "Python 3 (ipykernel)",
   "language": "python",
   "name": "python3"
  },
  "language_info": {
   "codemirror_mode": {
    "name": "ipython",
    "version": 3
   },
   "file_extension": ".py",
   "mimetype": "text/x-python",
   "name": "python",
   "nbconvert_exporter": "python",
   "pygments_lexer": "ipython3",
   "version": "3.11.3"
  }
 },
 "nbformat": 4,
 "nbformat_minor": 4
}
